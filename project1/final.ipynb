{
 "cells": [
  {
   "cell_type": "code",
   "execution_count": 4,
   "metadata": {},
   "outputs": [],
   "source": [
    "import numpy as np\n",
    "\n",
    "from helpers import load_csv_data\n",
    "from ml_methods.implementations import logistic_regression, sigmoid, reg_logistic_regression, calculate_loss\n",
    "from ml_methods.implementations import ridge_regression, least_squares_SGD\n",
    "import matplotlib.pyplot as plt\n",
    "from sklearn.preprocessing import MinMaxScaler, RobustScaler\n",
    "from sklearn.preprocessing import StandardScaler\n",
    "import scipy\n",
    "\n",
    "np.random.seed(10)"
   ]
  },
  {
   "cell_type": "code",
   "execution_count": 5,
   "metadata": {},
   "outputs": [],
   "source": [
    "y, x, ids = load_csv_data('./data/train.csv')"
   ]
  },
  {
   "cell_type": "markdown",
   "metadata": {},
   "source": [
    "# Data Processing and feature engineering"
   ]
  },
  {
   "cell_type": "code",
   "execution_count": 6,
   "metadata": {},
   "outputs": [],
   "source": [
    "def scaler(x, m=0, std=0, train=True):\n",
    "    if train:\n",
    "        m = np.mean(x, axis=0)\n",
    "        std = np.std(x, axis=0)\n",
    "    x = (x - m) / std\n",
    "    return x, m, std\n",
    "\n",
    "def shuffle_split_data(x, y, scale=0.9):\n",
    "    perc = scale * 100\n",
    "    arr_rand = np.random.rand(x.shape[0])\n",
    "    split = arr_rand < np.percentile(arr_rand, perc)\n",
    "\n",
    "    x_train = x[split]\n",
    "    y_train = y[split]\n",
    "    x_test =  x[~split]\n",
    "    y_test = y[~split]\n",
    "    return x_train, y_train, x_test, y_test"
   ]
  },
  {
   "cell_type": "code",
   "execution_count": 7,
   "metadata": {},
   "outputs": [],
   "source": [
    "def process_data(x, y, poly=False, cv=3):\n",
    "    splits = []\n",
    "    x = np.delete(x, [5, 6, 12, 26, 27, 28, 29, 25], axis=1)\n",
    "    x[:,0][x[:,0] == -999] = -5\n",
    "    x[:,20][x[:,20] == -999] = -5\n",
    "    \n",
    "    for k in range(cv):  \n",
    "        x_train, y_train, x_test, y_test = shuffle_split_data(x, y, 0.9)\n",
    "\n",
    "        if poly:\n",
    "            x_train = np.concatenate([x_train, x_train**2], axis=1)\n",
    "            x_test = np.concatenate([x_test, x_test**2], axis=1)\n",
    "\n",
    "        x_train, m_train, std_train = scaler(x_train, train=True)\n",
    "\n",
    "        x_test, _, _ = scaler(x_test, m=m_train, std=std_train, train=False)\n",
    "\n",
    "        x_train = np.hstack((x_train, np.ones((len(x_train), 1))))\n",
    "        x_test = np.hstack((x_test, np.ones((len(x_test), 1))))\n",
    "\n",
    "        splits.append((x_train, y_train, x_test, y_test))\n",
    "    return splits"
   ]
  },
  {
   "cell_type": "markdown",
   "metadata": {},
   "source": [
    "# Model selection"
   ]
  },
  {
   "cell_type": "markdown",
   "metadata": {},
   "source": [
    "## Baseline: logistic regression"
   ]
  },
  {
   "cell_type": "code",
   "execution_count": 29,
   "metadata": {},
   "outputs": [],
   "source": [
    "n_epochs = 1000"
   ]
  },
  {
   "cell_type": "code",
   "execution_count": 30,
   "metadata": {},
   "outputs": [],
   "source": [
    "from tqdm import trange\n",
    "\n",
    "splits_1 = process_data(x, y, poly=False, cv=3)"
   ]
  },
  {
   "cell_type": "code",
   "execution_count": 31,
   "metadata": {},
   "outputs": [
    {
     "name": "stderr",
     "output_type": "stream",
     "text": [
      "100%|███████████████████████████████████████| 1000/1000 [00:19<00:00, 51.19it/s]\n",
      "100%|███████████████████████████████████████| 1000/1000 [00:19<00:00, 51.67it/s]\n",
      "100%|███████████████████████████████████████| 1000/1000 [00:18<00:00, 53.94it/s]\n"
     ]
    }
   ],
   "source": [
    "weights_1 = []\n",
    "train_losses_1 = []\n",
    "test_losses_1 = []\n",
    "for split in splits_1:\n",
    "    x_train, y_train, x_test, y_test = split\n",
    "    w_init = np.random.normal(0, 1, size=(x_train.shape[1],)) \n",
    "    w = w_init\n",
    "    train_losses = []\n",
    "    test_losses = []\n",
    "    for epoch in trange(n_epochs):\n",
    "        w, loss = logistic_regression(y_train, x_train, w, 1, 0.05)\n",
    "        train_losses.append(calculate_loss(y_train, x_train, w))\n",
    "        test_losses.append(calculate_loss(y_test, x_test, w))\n",
    "    weights_1.append(w)\n",
    "    train_losses_1.append(train_losses)\n",
    "    test_losses_1.append(test_losses)"
   ]
  },
  {
   "cell_type": "code",
   "execution_count": 32,
   "metadata": {},
   "outputs": [
    {
     "data": {
      "image/png": "[encoded data removed]",
      "text/plain": [
       "<Figure size 640x480 with 1 Axes>"
      ]
     },
     "metadata": {},
     "output_type": "display_data"
    }
   ],
   "source": [
    "from sklearn.metrics import accuracy_score, f1_score\n",
    "\n",
    "metrics_1 = {'acc': [], 'f1': []}\n",
    "for k, split in enumerate(splits_1):\n",
    "    w = weights_1[k]\n",
    "    x_train, y_train, x_test, y_test = split\n",
    "    pred_val = sigmoid(x_test @ w)\n",
    "\n",
    "    val_acc = accuracy_score(pred_val > 0.5, y_test)\n",
    "    val_f1 = f1_score(pred_val > 0.5, y_test)\n",
    "    metrics_1['acc'].append(val_acc)\n",
    "    metrics_1['f1'].append(val_f1)\n",
    "plt.boxplot(metrics_1['acc'])\n",
    "plt.show()"
   ]
  },
  {
   "cell_type": "markdown",
   "metadata": {},
   "source": [
    "## Logistic regression + LR scheduling"
   ]
  },
  {
   "cell_type": "code",
   "execution_count": 33,
   "metadata": {},
   "outputs": [
    {
     "name": "stderr",
     "output_type": "stream",
     "text": [
      "  4%|█▋                                       | 41/1000 [00:00<00:17, 53.39it/s]/home/mike/ML2022/ml-project-1-grandmasters/project1/ml_methods/implementations.py:93: RuntimeWarning: divide by zero encountered in log\n",
      "  loss = - np.mean(y * np.log(p) + (1 - y) * np.log(1 - p))\n",
      "/home/mike/ML2022/ml-project-1-grandmasters/project1/ml_methods/implementations.py:93: RuntimeWarning: invalid value encountered in multiply\n",
      "  loss = - np.mean(y * np.log(p) + (1 - y) * np.log(1 - p))\n",
      "100%|███████████████████████████████████████| 1000/1000 [00:18<00:00, 52.67it/s]\n",
      "100%|███████████████████████████████████████| 1000/1000 [00:20<00:00, 49.55it/s]\n",
      "100%|███████████████████████████████████████| 1000/1000 [00:19<00:00, 52.21it/s]\n"
     ]
    }
   ],
   "source": [
    "def gamma(epoch, n_epochs):\n",
    "    gamma_max = 0.05\n",
    "    gamma_min = 0.001\n",
    "    gamma = (gamma_max - gamma_min) / n_epochs * epoch + gamma_max\n",
    "    return gamma\n",
    "\n",
    "\n",
    "\n",
    "weights_2 = []\n",
    "train_losses_2 = []\n",
    "test_losses_2 = []\n",
    "for split in splits_1:\n",
    "    x_train, y_train, x_test, y_test = split\n",
    "    w_init = np.random.normal(0, 1, size=(x_train.shape[1],)) \n",
    "    w = w_init\n",
    "    train_losses = []\n",
    "    test_losses = []\n",
    "    for epoch in trange(n_epochs):\n",
    "        w, loss = logistic_regression(y_train, x_train, w, 1, gamma(epoch, n_epochs))\n",
    "        train_losses.append(calculate_loss(y_train, x_train, w))\n",
    "        test_losses.append(calculate_loss(y_test, x_test, w))\n",
    "    weights_2.append(w)\n",
    "    train_losses_2.append(train_losses)\n",
    "    test_losses_2.append(test_losses)"
   ]
  },
  {
   "cell_type": "code",
   "execution_count": 34,
   "metadata": {},
   "outputs": [
    {
     "data": {
      "image/png": "[encoded data removed]",
      "text/plain": [
       "<Figure size 640x480 with 1 Axes>"
      ]
     },
     "metadata": {},
     "output_type": "display_data"
    }
   ],
   "source": [
    "metrics_2 = {'acc': [], 'f1': []}\n",
    "for k, split in enumerate(splits_1):\n",
    "    w = weights_2[k]\n",
    "    x_train, y_train, x_test, y_test = split\n",
    "    pred_val = sigmoid(x_test @ w)\n",
    "\n",
    "    val_acc = accuracy_score(pred_val > 0.5, y_test)\n",
    "    val_f1 = f1_score(pred_val > 0.5, y_test)\n",
    "    metrics_2['acc'].append(val_acc)\n",
    "    metrics_2['f1'].append(val_f1)\n",
    "plt.boxplot(metrics_2['acc'])\n",
    "plt.show()"
   ]
  },
  {
   "cell_type": "markdown",
   "metadata": {},
   "source": [
    "## Logistic regression + regularization"
   ]
  },
  {
   "cell_type": "code",
   "execution_count": 35,
   "metadata": {
    "scrolled": true
   },
   "outputs": [
    {
     "name": "stderr",
     "output_type": "stream",
     "text": [
      "  0%|                                                  | 0/1000 [00:00<?, ?it/s]/home/mike/ML2022/ml-project-1-grandmasters/project1/ml_methods/implementations.py:93: RuntimeWarning: divide by zero encountered in log\n",
      "  loss = - np.mean(y * np.log(p) + (1 - y) * np.log(1 - p))\n",
      "/home/mike/ML2022/ml-project-1-grandmasters/project1/ml_methods/implementations.py:93: RuntimeWarning: invalid value encountered in multiply\n",
      "  loss = - np.mean(y * np.log(p) + (1 - y) * np.log(1 - p))\n",
      "100%|███████████████████████████████████████| 1000/1000 [00:19<00:00, 51.81it/s]\n",
      "  0%|                                                  | 0/1000 [00:00<?, ?it/s]/home/mike/ML2022/ml-project-1-grandmasters/project1/ml_methods/implementations.py:93: RuntimeWarning: divide by zero encountered in log\n",
      "  loss = - np.mean(y * np.log(p) + (1 - y) * np.log(1 - p))\n",
      "/home/mike/ML2022/ml-project-1-grandmasters/project1/ml_methods/implementations.py:93: RuntimeWarning: invalid value encountered in multiply\n",
      "  loss = - np.mean(y * np.log(p) + (1 - y) * np.log(1 - p))\n",
      "100%|███████████████████████████████████████| 1000/1000 [00:18<00:00, 52.66it/s]\n",
      "  0%|                                                  | 0/1000 [00:00<?, ?it/s]/home/mike/ML2022/ml-project-1-grandmasters/project1/ml_methods/implementations.py:93: RuntimeWarning: divide by zero encountered in log\n",
      "  loss = - np.mean(y * np.log(p) + (1 - y) * np.log(1 - p))\n",
      "/home/mike/ML2022/ml-project-1-grandmasters/project1/ml_methods/implementations.py:93: RuntimeWarning: invalid value encountered in multiply\n",
      "  loss = - np.mean(y * np.log(p) + (1 - y) * np.log(1 - p))\n",
      "100%|███████████████████████████████████████| 1000/1000 [00:19<00:00, 52.61it/s]\n",
      "  0%|                                                  | 0/1000 [00:00<?, ?it/s]/home/mike/ML2022/ml-project-1-grandmasters/project1/ml_methods/implementations.py:93: RuntimeWarning: divide by zero encountered in log\n",
      "  loss = - np.mean(y * np.log(p) + (1 - y) * np.log(1 - p))\n",
      "/home/mike/ML2022/ml-project-1-grandmasters/project1/ml_methods/implementations.py:93: RuntimeWarning: invalid value encountered in multiply\n",
      "  loss = - np.mean(y * np.log(p) + (1 - y) * np.log(1 - p))\n",
      "100%|███████████████████████████████████████| 1000/1000 [00:18<00:00, 52.71it/s]\n",
      "  0%|                                                  | 0/1000 [00:00<?, ?it/s]/home/mike/ML2022/ml-project-1-grandmasters/project1/ml_methods/implementations.py:93: RuntimeWarning: divide by zero encountered in log\n",
      "  loss = - np.mean(y * np.log(p) + (1 - y) * np.log(1 - p))\n",
      "/home/mike/ML2022/ml-project-1-grandmasters/project1/ml_methods/implementations.py:93: RuntimeWarning: invalid value encountered in multiply\n",
      "  loss = - np.mean(y * np.log(p) + (1 - y) * np.log(1 - p))\n",
      "100%|███████████████████████████████████████| 1000/1000 [00:19<00:00, 52.60it/s]\n",
      "  0%|                                                  | 0/1000 [00:00<?, ?it/s]/home/mike/ML2022/ml-project-1-grandmasters/project1/ml_methods/implementations.py:93: RuntimeWarning: divide by zero encountered in log\n",
      "  loss = - np.mean(y * np.log(p) + (1 - y) * np.log(1 - p))\n",
      "/home/mike/ML2022/ml-project-1-grandmasters/project1/ml_methods/implementations.py:93: RuntimeWarning: invalid value encountered in multiply\n",
      "  loss = - np.mean(y * np.log(p) + (1 - y) * np.log(1 - p))\n",
      "100%|███████████████████████████████████████| 1000/1000 [00:19<00:00, 52.42it/s]\n",
      "100%|███████████████████████████████████████| 1000/1000 [00:19<00:00, 51.61it/s]\n",
      "  0%|                                                  | 0/1000 [00:00<?, ?it/s]/home/mike/ML2022/ml-project-1-grandmasters/project1/ml_methods/implementations.py:93: RuntimeWarning: divide by zero encountered in log\n",
      "  loss = - np.mean(y * np.log(p) + (1 - y) * np.log(1 - p))\n",
      "/home/mike/ML2022/ml-project-1-grandmasters/project1/ml_methods/implementations.py:93: RuntimeWarning: invalid value encountered in multiply\n",
      "  loss = - np.mean(y * np.log(p) + (1 - y) * np.log(1 - p))\n",
      "100%|███████████████████████████████████████| 1000/1000 [00:20<00:00, 48.45it/s]\n",
      "  0%|                                                  | 0/1000 [00:00<?, ?it/s]/home/mike/ML2022/ml-project-1-grandmasters/project1/ml_methods/implementations.py:93: RuntimeWarning: divide by zero encountered in log\n",
      "  loss = - np.mean(y * np.log(p) + (1 - y) * np.log(1 - p))\n",
      "/home/mike/ML2022/ml-project-1-grandmasters/project1/ml_methods/implementations.py:93: RuntimeWarning: invalid value encountered in multiply\n",
      "  loss = - np.mean(y * np.log(p) + (1 - y) * np.log(1 - p))\n",
      "100%|███████████████████████████████████████| 1000/1000 [00:20<00:00, 48.77it/s]\n",
      "  0%|                                                  | 0/1000 [00:00<?, ?it/s]/home/mike/ML2022/ml-project-1-grandmasters/project1/ml_methods/implementations.py:93: RuntimeWarning: divide by zero encountered in log\n",
      "  loss = - np.mean(y * np.log(p) + (1 - y) * np.log(1 - p))\n",
      "100%|███████████████████████████████████████| 1000/1000 [00:20<00:00, 48.04it/s]\n",
      "  0%|                                                  | 0/1000 [00:00<?, ?it/s]/home/mike/ML2022/ml-project-1-grandmasters/project1/ml_methods/implementations.py:93: RuntimeWarning: divide by zero encountered in log\n",
      "  loss = - np.mean(y * np.log(p) + (1 - y) * np.log(1 - p))\n",
      "/home/mike/ML2022/ml-project-1-grandmasters/project1/ml_methods/implementations.py:93: RuntimeWarning: invalid value encountered in multiply\n",
      "  loss = - np.mean(y * np.log(p) + (1 - y) * np.log(1 - p))\n",
      "100%|███████████████████████████████████████| 1000/1000 [00:19<00:00, 51.34it/s]\n",
      "  0%|                                                  | 0/1000 [00:00<?, ?it/s]/home/mike/ML2022/ml-project-1-grandmasters/project1/ml_methods/implementations.py:93: RuntimeWarning: divide by zero encountered in log\n",
      "  loss = - np.mean(y * np.log(p) + (1 - y) * np.log(1 - p))\n",
      "/home/mike/ML2022/ml-project-1-grandmasters/project1/ml_methods/implementations.py:93: RuntimeWarning: invalid value encountered in multiply\n",
      "  loss = - np.mean(y * np.log(p) + (1 - y) * np.log(1 - p))\n",
      "100%|███████████████████████████████████████| 1000/1000 [00:20<00:00, 48.74it/s]\n"
     ]
    }
   ],
   "source": [
    "ls = [0.001, 0.01, 0.1, 1]\n",
    "\n",
    "weights_3 = {l : [] for l in ls}\n",
    "train_losses_3 = {l : [] for l in ls}\n",
    "test_losses_3 = {l : [] for l in ls}\n",
    "metrics_3 = {l:{'acc': [], 'f1': []} for l in ls}\n",
    "for l in ls:\n",
    "        \n",
    "    for split in splits_1:\n",
    "        x_train, y_train, x_test, y_test = split\n",
    "        w_init = np.random.normal(0, 1, size=(x_train.shape[1],)) \n",
    "        w = w_init\n",
    "        train_losses = []\n",
    "        test_losses = []\n",
    "        for epoch in trange(n_epochs):\n",
    "            w, loss = reg_logistic_regression(y_train, x_train, l, w, 1, 0.05)\n",
    "            train_losses.append(calculate_loss(y_train, x_train, w))\n",
    "            test_losses.append(calculate_loss(y_test, x_test, w))\n",
    "        weights_3[l].append(w)\n",
    "        train_losses_3[l].append(train_losses)\n",
    "        test_losses_3[l].append(test_losses)\n",
    "    \n",
    "        # predict on test\n",
    "        pred_val = sigmoid(x_test @ w)\n",
    "\n",
    "        val_acc = accuracy_score(pred_val > 0.5, y_test)\n",
    "        val_f1 = f1_score(pred_val > 0.5, y_test)\n",
    "        metrics_3[l]['acc'].append(val_acc)\n",
    "        metrics_3[l]['f1'].append(val_f1)"
   ]
  },
  {
   "cell_type": "code",
   "execution_count": 36,
   "metadata": {},
   "outputs": [
    {
     "name": "stdout",
     "output_type": "stream",
     "text": [
      "0.001 0.7285866666666667\n",
      "0.01 0.7319466666666666\n",
      "0.1 0.7142400000000001\n",
      "1 0.6869466666666666\n"
     ]
    }
   ],
   "source": [
    "for k, v in metrics_3.items():\n",
    "    print(k, np.mean(v['acc']))"
   ]
  },
  {
   "cell_type": "markdown",
   "metadata": {},
   "source": [
    "## Polynomial features"
   ]
  },
  {
   "cell_type": "code",
   "execution_count": 37,
   "metadata": {},
   "outputs": [],
   "source": [
    "splits_2 = process_data(x, y, poly=True, cv=3)"
   ]
  },
  {
   "cell_type": "code",
   "execution_count": 38,
   "metadata": {},
   "outputs": [
    {
     "name": "stderr",
     "output_type": "stream",
     "text": [
      "  0%|                                                  | 0/1000 [00:00<?, ?it/s]/home/mike/ML2022/ml-project-1-grandmasters/project1/ml_methods/implementations.py:93: RuntimeWarning: divide by zero encountered in log\n",
      "  loss = - np.mean(y * np.log(p) + (1 - y) * np.log(1 - p))\n",
      "/home/mike/ML2022/ml-project-1-grandmasters/project1/ml_methods/implementations.py:93: RuntimeWarning: invalid value encountered in multiply\n",
      "  loss = - np.mean(y * np.log(p) + (1 - y) * np.log(1 - p))\n",
      "100%|███████████████████████████████████████| 1000/1000 [00:33<00:00, 29.93it/s]\n",
      "100%|███████████████████████████████████████| 1000/1000 [00:32<00:00, 30.50it/s]\n",
      "  0%|                                                  | 0/1000 [00:00<?, ?it/s]/home/mike/ML2022/ml-project-1-grandmasters/project1/ml_methods/implementations.py:85: RuntimeWarning: overflow encountered in exp\n",
      "  return 1 / (1 + np.exp(-t))\n",
      "100%|███████████████████████████████████████| 1000/1000 [00:32<00:00, 31.17it/s]\n"
     ]
    }
   ],
   "source": [
    "weights_4 = []\n",
    "train_losses_4 = []\n",
    "test_losses_4 = []\n",
    "for split in splits_2:\n",
    "    x_train, y_train, x_test, y_test = split\n",
    "    w_init = np.random.normal(0, 1, size=(x_train.shape[1],)) \n",
    "    w = w_init\n",
    "    train_losses = []\n",
    "    test_losses = []\n",
    "    for epoch in trange(n_epochs):\n",
    "        w, loss = logistic_regression(y_train, x_train, w, 1, 0.05)\n",
    "        train_losses.append(calculate_loss(y_train, x_train, w))\n",
    "        test_losses.append(calculate_loss(y_test, x_test, w))\n",
    "    weights_4.append(w)\n",
    "    train_losses_4.append(train_losses)\n",
    "    test_losses_4.append(test_losses)"
   ]
  },
  {
   "cell_type": "code",
   "execution_count": 39,
   "metadata": {},
   "outputs": [
    {
     "data": {
      "image/png": "[encoded data removed]",
      "text/plain": [
       "<Figure size 640x480 with 1 Axes>"
      ]
     },
     "metadata": {},
     "output_type": "display_data"
    }
   ],
   "source": [
    "metrics_4 = {'acc': [], 'f1': []}\n",
    "for k, split in enumerate(splits_2):\n",
    "    w = weights_4[k]\n",
    "    x_train, y_train, x_test, y_test = split\n",
    "    pred_val = sigmoid(x_test @ w)\n",
    "\n",
    "    val_acc = accuracy_score(pred_val > 0.5, y_test)\n",
    "    val_f1 = f1_score(pred_val > 0.5, y_test)\n",
    "    metrics_4['acc'].append(val_acc)\n",
    "    metrics_4['f1'].append(val_f1)\n",
    "plt.boxplot(metrics_4['acc'])\n",
    "plt.show()"
   ]
  },
  {
   "cell_type": "markdown",
   "metadata": {},
   "source": [
    "## Polynomial features + reg"
   ]
  },
  {
   "cell_type": "code",
   "execution_count": 70,
   "metadata": {},
   "outputs": [
    {
     "name": "stderr",
     "output_type": "stream",
     "text": [
      "  0%|                                                  | 0/1000 [00:00<?, ?it/s]/home/mike/ML2022/ml-project-1-grandmasters/project1/ml_methods/implementations.py:93: RuntimeWarning: divide by zero encountered in log\n",
      "  loss = - np.mean(y * np.log(p) + (1 - y) * np.log(1 - p))\n",
      "/home/mike/ML2022/ml-project-1-grandmasters/project1/ml_methods/implementations.py:93: RuntimeWarning: invalid value encountered in multiply\n",
      "  loss = - np.mean(y * np.log(p) + (1 - y) * np.log(1 - p))\n",
      "100%|███████████████████████████████████████| 1000/1000 [00:32<00:00, 30.76it/s]\n",
      "  0%|                                                  | 0/1000 [00:00<?, ?it/s]/home/mike/ML2022/ml-project-1-grandmasters/project1/ml_methods/implementations.py:93: RuntimeWarning: divide by zero encountered in log\n",
      "  loss = - np.mean(y * np.log(p) + (1 - y) * np.log(1 - p))\n",
      "/home/mike/ML2022/ml-project-1-grandmasters/project1/ml_methods/implementations.py:93: RuntimeWarning: invalid value encountered in multiply\n",
      "  loss = - np.mean(y * np.log(p) + (1 - y) * np.log(1 - p))\n",
      "100%|███████████████████████████████████████| 1000/1000 [00:32<00:00, 30.37it/s]\n",
      "  0%|                                                  | 0/1000 [00:00<?, ?it/s]/home/mike/ML2022/ml-project-1-grandmasters/project1/ml_methods/implementations.py:85: RuntimeWarning: overflow encountered in exp\n",
      "  return 1 / (1 + np.exp(-t))\n",
      "/home/mike/ML2022/ml-project-1-grandmasters/project1/ml_methods/implementations.py:93: RuntimeWarning: divide by zero encountered in log\n",
      "  loss = - np.mean(y * np.log(p) + (1 - y) * np.log(1 - p))\n",
      "/home/mike/ML2022/ml-project-1-grandmasters/project1/ml_methods/implementations.py:93: RuntimeWarning: invalid value encountered in multiply\n",
      "  loss = - np.mean(y * np.log(p) + (1 - y) * np.log(1 - p))\n",
      "100%|███████████████████████████████████████| 1000/1000 [00:34<00:00, 28.76it/s]\n"
     ]
    }
   ],
   "source": [
    "# ls = [0.001, 0.01, 0.1, 1]\n",
    "ls = [0.01]\n",
    "\n",
    "weights_5 = {l : [] for l in ls}\n",
    "train_losses_5 = {l : [] for l in ls}\n",
    "test_losses_5 = {l : [] for l in ls}\n",
    "metrics_5 = {l:{'acc': [], 'f1': []} for l in ls}\n",
    "for l in ls:\n",
    "        \n",
    "    for split in splits_2:\n",
    "        x_train, y_train, x_test, y_test = split\n",
    "        w_init = np.random.normal(0, 1, size=(x_train.shape[1],)) \n",
    "        w = w_init\n",
    "        train_losses = []\n",
    "        test_losses = []\n",
    "        for epoch in trange(n_epochs):\n",
    "            w, loss = reg_logistic_regression(y_train, x_train, l, w, 1, gamma(epoch, n_epochs))\n",
    "            train_losses.append(calculate_loss(y_train, x_train, w))\n",
    "            test_losses.append(calculate_loss(y_test, x_test, w))\n",
    "        weights_5[l].append(w)\n",
    "        train_losses_5[l].append(train_losses)\n",
    "        test_losses_5[l].append(test_losses)\n",
    "    \n",
    "        # predict on test\n",
    "        pred_val = sigmoid(x_test @ w)\n",
    "\n",
    "        val_acc = accuracy_score(pred_val > 0.5, y_test)\n",
    "        val_f1 = f1_score(pred_val > 0.5, y_test)\n",
    "        metrics_5[l]['acc'].append(val_acc)\n",
    "        metrics_5[l]['f1'].append(val_f1)"
   ]
  },
  {
   "cell_type": "code",
   "execution_count": 71,
   "metadata": {},
   "outputs": [
    {
     "name": "stdout",
     "output_type": "stream",
     "text": [
      "0.001 0.7285866666666667\n",
      "0.01 0.7319466666666666\n",
      "0.1 0.7142400000000001\n",
      "1 0.6869466666666666\n"
     ]
    }
   ],
   "source": [
    "for k, v in metrics_3.items():\n",
    "    print(k, np.mean(v['acc']))"
   ]
  },
  {
   "cell_type": "code",
   "execution_count": 48,
   "metadata": {},
   "outputs": [
    {
     "name": "stderr",
     "output_type": "stream",
     "text": [
      "/home/mike/ML2022/ml-project-1-grandmasters/project1/ml_methods/implementations.py:93: RuntimeWarning: divide by zero encountered in log\n",
      "  loss = - np.mean(y * np.log(p) + (1 - y) * np.log(1 - p))\n",
      "/home/mike/ML2022/ml-project-1-grandmasters/project1/ml_methods/implementations.py:93: RuntimeWarning: invalid value encountered in multiply\n",
      "  loss = - np.mean(y * np.log(p) + (1 - y) * np.log(1 - p))\n"
     ]
    }
   ],
   "source": [
    "#submissions creating\n",
    "from helpers import create_csv_submission\n",
    "\n",
    "def process_data(x, y, x_test, y_test):\n",
    "    x = np.delete(x, [5, 6, 12, 26, 27, 28, 29, 25], axis=1)\n",
    "    x[:,0][x[:,0] == -999] = -5\n",
    "    x[:,20][x[:,20] == -999] = -5\n",
    "    \n",
    "    x_test = np.delete(x_test, [5, 6, 12, 26, 27, 28, 29, 25], axis=1)\n",
    "    x_test[:,0][x_test[:,0] == -999] = -5\n",
    "    x_test[:,20][x_test[:,20] == -999] = -5\n",
    "\n",
    "    x = np.concatenate([x, x**2], axis=1)\n",
    "    x_test = np.concatenate([x_test, x_test**2], axis=1)\n",
    "\n",
    "    x, m_train, std_train = scaler(x, train=True)\n",
    "\n",
    "    x_test, _, _ = scaler(x_test, m=m_train, std=std_train, train=False)\n",
    "\n",
    "    x = np.hstack((x, np.ones((len(x), 1))))\n",
    "    x_test = np.hstack((x_test, np.ones((len(x_test), 1))))\n",
    "\n",
    "    return x, y, x_test, y_test\n",
    "\n",
    "# submission run\n",
    "y_test, x_test, ids_test = load_csv_data('./data/test.csv')\n",
    "x_train, y_train, x_test, y_test = process_data(x, y, x_test, y_test)\n",
    "w_init = np.random.normal(0, 1, size=(x_train.shape[1],)) \n",
    "w, loss = reg_logistic_regression(y_train, x_train, 0.01, w_init, 1000, 0.05)\n",
    "\n",
    "pred_val = sigmoid(x_test @ w)\n",
    "\n",
    "predictions = np.where(pred_val > 0.5, 1, -1)\n",
    "\n",
    "create_csv_submission(ids_test, predictions, \"final.csv\")"
   ]
  },
  {
   "cell_type": "markdown",
   "metadata": {},
   "source": [
    "# Boxplots for report"
   ]
  },
  {
   "cell_type": "code",
   "execution_count": 55,
   "metadata": {},
   "outputs": [],
   "source": [
    "data = [metrics_1['acc'], metrics_2['acc'], metrics_3[0.01]['acc'], metrics_4['acc'], metrics_5[0.01]['acc']]"
   ]
  },
  {
   "cell_type": "code",
   "execution_count": 63,
   "metadata": {},
   "outputs": [
    {
     "name": "stderr",
     "output_type": "stream",
     "text": [
      "/tmp/ipykernel_6269/2008141736.py:5: UserWarning: FixedFormatter should only be used together with FixedLocator\n",
      "  ax.set_xticklabels(['0', '1', '2', '3', '4', '5'])\n",
      "/home/mike/miniconda3/lib/python3.9/site-packages/IPython/core/pylabtools.py:151: UserWarning: This figure includes Axes that are not compatible with tight_layout, so results might be incorrect.\n",
      "  fig.canvas.print_figure(bytes_io, **kw)\n"
     ]
    },
    {
     "data": {
      "image/png": "[encoded data removed]",
      "text/plain": [
       "<Figure size 500x500 with 1 Axes>"
      ]
     },
     "metadata": {},
     "output_type": "display_data"
    }
   ],
   "source": [
    "fig = plt.figure(figsize =(5, 5))\n",
    "ax = fig.add_axes([0, 0, 1, 1])\n",
    "\n",
    "\n",
    "ax.set_xticklabels(['0', '1', '2', '3', '4', '5'])\n",
    "# ax.set_xticklabels(['baseline on processed features', 'LR-scheduling',\n",
    "#                     'regularization with term 0.01', 'squared features', 'squared features and regularization with term 0.01'])\n",
    "\n",
    "# ax.legend(data[0], data[1], ['A', 'B'], loc='upper right')\n",
    "ax.set_ylabel('Accuracy')\n",
    "ax.set_xlabel('Models')\n",
    "\n",
    "bp = ax.boxplot(data)\n",
    " \n",
    "# show plot\n",
    "plt.show()"
   ]
  },
  {
   "cell_type": "code",
   "execution_count": 69,
   "metadata": {},
   "outputs": [
    {
     "name": "stdout",
     "output_type": "stream",
     "text": [
      "[0.72824    0.73808    0.73194667 0.74870667 0.75814667] +-\n",
      " [0.00606349 0.00200506 0.00061478 0.01150779 0.00253873]\n"
     ]
    }
   ],
   "source": [
    "print(np.mean(data, axis=1), \"+-\\n\", np.std(data, axis=1))\n"
   ]
  },
  {
   "cell_type": "code",
   "execution_count": null,
   "metadata": {},
   "outputs": [],
   "source": []
  }
 ],
 "metadata": {
  "kernelspec": {
   "display_name": "Python 3 (ipykernel)",
   "language": "python",
   "name": "python3"
  },
  "language_info": {
   "codemirror_mode": {
    "name": "ipython",
    "version": 3
   },
   "file_extension": ".py",
   "mimetype": "text/x-python",
   "name": "python",
   "nbconvert_exporter": "python",
   "pygments_lexer": "ipython3",
   "version": "3.9.12"
  }
 },
 "nbformat": 4,
 "nbformat_minor": 1
}
